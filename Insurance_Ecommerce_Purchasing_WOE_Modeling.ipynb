{
  "cells": [
    {
      "cell_type": "code",
      "execution_count": null,
      "metadata": {
        "ExecuteTime": {
          "end_time": "2020-10-05T11:31:44.361420Z",
          "start_time": "2020-10-05T11:31:41.588277Z"
        },
        "id": "LX0vvkSE1GYT"
      },
      "outputs": [],
      "source": [
        "import pandas as pd\n",
        "pd.set_option('display.max_rows', 100)\n",
        "pd.set_option('display.max_columns', 100)\n",
        "\n",
        "import warnings; warnings.simplefilter('ignore')\n",
        "# !pip install graphviz\n",
        "# !pip install dtreeviz\n",
        "import graphviz, pandas as pd, matplotlib.pyplot as plt, numpy as np, seaborn as sns\n",
        "from pandas.plotting import scatter_matrix\n",
        "from sklearn import model_selection, tree\n",
        "from sklearn.metrics import classification_report\n",
        "from sklearn.metrics import confusion_matrix\n",
        "from sklearn.metrics import accuracy_score\n",
        "from sklearn.linear_model import LogisticRegression\n",
        "from sklearn.neighbors import KNeighborsClassifier\n",
        "from sklearn.naive_bayes import GaussianNB\n",
        "from sklearn.ensemble import RandomForestClassifier\n",
        "from sklearn import tree\n",
        "# from dtreeviz.trees import *\n",
        "from IPython.core.display import display, HTML\n",
        "\n",
        "\n",
        "sns.set(style=\"ticks\", color_codes=True)"
      ]
    },
    {
      "cell_type": "code",
      "execution_count": null,
      "metadata": {
        "id": "grnjO2-q1GYW"
      },
      "outputs": [],
      "source": [
        "exclude_date = ['last_purchased_mf','first_purchase_il','last_purchase_il']"
      ]
    },
    {
      "cell_type": "code",
      "execution_count": null,
      "metadata": {
        "ExecuteTime": {
          "end_time": "2020-10-05T11:31:59.021205Z",
          "start_time": "2020-10-05T11:31:58.857246Z"
        },
        "scrolled": true,
        "id": "1ChnLf2S1GYW"
      },
      "outputs": [],
      "source": [
        "# Load DataFile CSV\n",
        "df = pd.read_csv('C:/Users/fatia.nastitie/insurlater_dataset.csv') # run locally\n",
        "# exclude date, should convert to date_diff first if applicable\n",
        "df = df.drop(exclude_date, axis=1)\n",
        "df.head()"
      ]
    },
    {
      "cell_type": "code",
      "execution_count": null,
      "metadata": {
        "id": "YCcGiFLJ1GYX",
        "outputId": "19b52d7b-e462-4b12-ffc0-63cd595328d8"
      },
      "outputs": [
        {
          "data": {
            "text/plain": [
              "user_id                 int64\n",
              "sex                     int64\n",
              "age                   float64\n",
              "account_age             int64\n",
              "spender_type           object\n",
              "promo_user             object\n",
              "dg_profile             object\n",
              "location               object\n",
              "total_PG_amount       float64\n",
              "total_PG_trans        float64\n",
              "ABS_PG                float64\n",
              "total_DG_trans        float64\n",
              "total_DG_amount       float64\n",
              "ABS_DG                float64\n",
              "tier                   object\n",
              "total_insurlater      float64\n",
              "egold_amt             float64\n",
              "num_trx_egold         float64\n",
              "total_order_mf        float64\n",
              "last_egold_trx         object\n",
              "DG_ins_order          float64\n",
              "PG_ins_order          float64\n",
              "total_order_fi        float64\n",
              "PG_catname             object\n",
              "DG_catname             object\n",
              "gateway_name           object\n",
              "cicilan_loan           object\n",
              "payment_method_il      object\n",
              "avg_duration          float64\n",
              "most_courier           object\n",
              "count_ticket          float64\n",
              "search_session        float64\n",
              "mbkf                  float64\n",
              "fashion               float64\n",
              "automotive            float64\n",
              "fnb                   float64\n",
              "electronics           float64\n",
              "handphone             float64\n",
              "beauty                float64\n",
              "home_living           float64\n",
              "sport_hobbies         float64\n",
              "health                float64\n",
              "other_pg              float64\n",
              "Utilities             float64\n",
              "Financial_Services    float64\n",
              "telco                 float64\n",
              "tops_ups              float64\n",
              "travel                float64\n",
              "entertainment         float64\n",
              "other_dg              float64\n",
              "Insurlater             object\n",
              "dtype: object"
            ]
          },
          "execution_count": 5,
          "metadata": {},
          "output_type": "execute_result"
        }
      ],
      "source": [
        "df.dtypes"
      ]
    },
    {
      "cell_type": "code",
      "execution_count": null,
      "metadata": {
        "id": "MckS-Wb91GYX"
      },
      "outputs": [],
      "source": [
        "df['age'].fillna((df['age'].median()), inplace=True)"
      ]
    },
    {
      "cell_type": "code",
      "execution_count": null,
      "metadata": {
        "id": "9uSmbMj61GYY"
      },
      "outputs": [],
      "source": [
        "df.drop(df[df['age'] > 100].index, inplace = True)"
      ]
    },
    {
      "cell_type": "code",
      "execution_count": null,
      "metadata": {
        "id": "C7dNp8jT1GYY"
      },
      "outputs": [],
      "source": [
        "df['last_egold_trx'] = pd.to_datetime(df['last_egold_trx'], utc='TRUE')\n",
        "df['last_egold_trx'] = df['last_egold_trx'].dt.day_name()"
      ]
    },
    {
      "cell_type": "code",
      "execution_count": null,
      "metadata": {
        "id": "zPPvnCft1GYY"
      },
      "outputs": [],
      "source": [
        "df['cicilan_loan'].fillna('No', inplace =True)"
      ]
    },
    {
      "cell_type": "code",
      "execution_count": null,
      "metadata": {
        "id": "rygRK7Xc1GYY",
        "outputId": "4ba82592-5025-42c6-fc0c-b15e06d11939"
      },
      "outputs": [
        {
          "data": {
            "text/plain": [
              "user_id                 int64\n",
              "sex                     int64\n",
              "age                   float64\n",
              "account_age             int64\n",
              "spender_type           object\n",
              "promo_user             object\n",
              "dg_profile             object\n",
              "location               object\n",
              "total_PG_amount       float64\n",
              "total_PG_trans        float64\n",
              "ABS_PG                float64\n",
              "total_DG_trans        float64\n",
              "total_DG_amount       float64\n",
              "ABS_DG                float64\n",
              "tier                   object\n",
              "total_insurlater      float64\n",
              "egold_amt             float64\n",
              "num_trx_egold         float64\n",
              "total_order_mf        float64\n",
              "last_egold_trx         object\n",
              "DG_ins_order          float64\n",
              "PG_ins_order          float64\n",
              "total_order_fi        float64\n",
              "PG_catname             object\n",
              "DG_catname             object\n",
              "gateway_name           object\n",
              "cicilan_loan           object\n",
              "payment_method_il      object\n",
              "avg_duration          float64\n",
              "most_courier           object\n",
              "count_ticket          float64\n",
              "search_session        float64\n",
              "mbkf                  float64\n",
              "fashion               float64\n",
              "automotive            float64\n",
              "fnb                   float64\n",
              "electronics           float64\n",
              "handphone             float64\n",
              "beauty                float64\n",
              "home_living           float64\n",
              "sport_hobbies         float64\n",
              "health                float64\n",
              "other_pg              float64\n",
              "Utilities             float64\n",
              "Financial_Services    float64\n",
              "telco                 float64\n",
              "tops_ups              float64\n",
              "travel                float64\n",
              "entertainment         float64\n",
              "other_dg              float64\n",
              "Insurlater             object\n",
              "dtype: object"
            ]
          },
          "execution_count": 28,
          "metadata": {},
          "output_type": "execute_result"
        }
      ],
      "source": [
        "df.dtypes"
      ]
    },
    {
      "cell_type": "code",
      "execution_count": null,
      "metadata": {
        "ExecuteTime": {
          "end_time": "2020-10-05T11:32:07.832139Z",
          "start_time": "2020-10-05T11:32:07.698497Z"
        },
        "id": "zH3YJ9Z61GYZ",
        "outputId": "ea614698-7d6a-4daa-8a1e-a469f01284a7"
      },
      "outputs": [
        {
          "data": {
            "text/html": [
              "<div>\n",
              "<style scoped>\n",
              "    .dataframe tbody tr th:only-of-type {\n",
              "        vertical-align: middle;\n",
              "    }\n",
              "\n",
              "    .dataframe tbody tr th {\n",
              "        vertical-align: top;\n",
              "    }\n",
              "\n",
              "    .dataframe thead th {\n",
              "        text-align: right;\n",
              "    }\n",
              "</style>\n",
              "<table border=\"1\" class=\"dataframe\">\n",
              "  <thead>\n",
              "    <tr style=\"text-align: right;\">\n",
              "      <th></th>\n",
              "      <th>user_id</th>\n",
              "      <th>sex</th>\n",
              "      <th>age</th>\n",
              "      <th>account_age</th>\n",
              "      <th>total_PG_amount</th>\n",
              "      <th>total_PG_trans</th>\n",
              "      <th>ABS_PG</th>\n",
              "      <th>total_DG_trans</th>\n",
              "      <th>total_DG_amount</th>\n",
              "      <th>ABS_DG</th>\n",
              "      <th>total_insurlater</th>\n",
              "      <th>egold_amt</th>\n",
              "      <th>num_trx_egold</th>\n",
              "      <th>total_order_mf</th>\n",
              "      <th>DG_ins_order</th>\n",
              "      <th>PG_ins_order</th>\n",
              "      <th>total_order_fi</th>\n",
              "      <th>avg_duration</th>\n",
              "      <th>count_ticket</th>\n",
              "      <th>search_session</th>\n",
              "      <th>mbkf</th>\n",
              "      <th>fashion</th>\n",
              "      <th>automotive</th>\n",
              "      <th>fnb</th>\n",
              "      <th>electronics</th>\n",
              "      <th>handphone</th>\n",
              "      <th>beauty</th>\n",
              "      <th>home_living</th>\n",
              "      <th>sport_hobbies</th>\n",
              "      <th>health</th>\n",
              "      <th>other_pg</th>\n",
              "      <th>Utilities</th>\n",
              "      <th>Financial_Services</th>\n",
              "      <th>telco</th>\n",
              "      <th>tops_ups</th>\n",
              "      <th>travel</th>\n",
              "      <th>entertainment</th>\n",
              "      <th>other_dg</th>\n",
              "    </tr>\n",
              "  </thead>\n",
              "  <tbody>\n",
              "    <tr>\n",
              "      <th>count</th>\n",
              "      <td>2.013600e+04</td>\n",
              "      <td>20136.000000</td>\n",
              "      <td>20136.000000</td>\n",
              "      <td>20136.000000</td>\n",
              "      <td>2.013600e+04</td>\n",
              "      <td>20136.000000</td>\n",
              "      <td>2.013600e+04</td>\n",
              "      <td>20136.000000</td>\n",
              "      <td>2.013600e+04</td>\n",
              "      <td>2.013600e+04</td>\n",
              "      <td>20136.00000</td>\n",
              "      <td>20136.000000</td>\n",
              "      <td>20136.000000</td>\n",
              "      <td>20136.000000</td>\n",
              "      <td>20136.000000</td>\n",
              "      <td>20136.000000</td>\n",
              "      <td>20136.000000</td>\n",
              "      <td>20136.000000</td>\n",
              "      <td>20136.00000</td>\n",
              "      <td>20136.000000</td>\n",
              "      <td>20136.000000</td>\n",
              "      <td>20136.000000</td>\n",
              "      <td>20136.000000</td>\n",
              "      <td>20136.000000</td>\n",
              "      <td>20136.000000</td>\n",
              "      <td>20136.000000</td>\n",
              "      <td>20136.000000</td>\n",
              "      <td>20136.000000</td>\n",
              "      <td>20136.000000</td>\n",
              "      <td>20136.000000</td>\n",
              "      <td>20136.000000</td>\n",
              "      <td>20136.000000</td>\n",
              "      <td>20136.000000</td>\n",
              "      <td>20136.000000</td>\n",
              "      <td>20136.000000</td>\n",
              "      <td>20136.000000</td>\n",
              "      <td>20136.000000</td>\n",
              "      <td>20136.000000</td>\n",
              "    </tr>\n",
              "    <tr>\n",
              "      <th>mean</th>\n",
              "      <td>4.465333e+07</td>\n",
              "      <td>1.010528</td>\n",
              "      <td>32.054827</td>\n",
              "      <td>2.436581</td>\n",
              "      <td>2.129659e+07</td>\n",
              "      <td>24.128427</td>\n",
              "      <td>6.901699e+05</td>\n",
              "      <td>7.652364</td>\n",
              "      <td>2.246674e+06</td>\n",
              "      <td>1.328217e+05</td>\n",
              "      <td>0.10007</td>\n",
              "      <td>0.033181</td>\n",
              "      <td>1.412098</td>\n",
              "      <td>0.119190</td>\n",
              "      <td>0.128427</td>\n",
              "      <td>0.682112</td>\n",
              "      <td>0.006108</td>\n",
              "      <td>2.408019</td>\n",
              "      <td>0.00437</td>\n",
              "      <td>0.025526</td>\n",
              "      <td>0.864472</td>\n",
              "      <td>2.106426</td>\n",
              "      <td>1.427940</td>\n",
              "      <td>2.460816</td>\n",
              "      <td>3.431814</td>\n",
              "      <td>1.989621</td>\n",
              "      <td>0.716428</td>\n",
              "      <td>4.856178</td>\n",
              "      <td>1.865515</td>\n",
              "      <td>3.400228</td>\n",
              "      <td>2.594160</td>\n",
              "      <td>2.865117</td>\n",
              "      <td>0.460171</td>\n",
              "      <td>3.417859</td>\n",
              "      <td>0.628675</td>\n",
              "      <td>0.055920</td>\n",
              "      <td>0.138558</td>\n",
              "      <td>0.086065</td>\n",
              "    </tr>\n",
              "    <tr>\n",
              "      <th>std</th>\n",
              "      <td>3.770269e+07</td>\n",
              "      <td>0.702819</td>\n",
              "      <td>8.781557</td>\n",
              "      <td>2.011107</td>\n",
              "      <td>1.257301e+08</td>\n",
              "      <td>100.856101</td>\n",
              "      <td>1.916850e+06</td>\n",
              "      <td>18.400606</td>\n",
              "      <td>1.046974e+07</td>\n",
              "      <td>8.267245e+05</td>\n",
              "      <td>0.33749</td>\n",
              "      <td>0.994676</td>\n",
              "      <td>28.466926</td>\n",
              "      <td>1.612559</td>\n",
              "      <td>0.680710</td>\n",
              "      <td>2.111096</td>\n",
              "      <td>0.139930</td>\n",
              "      <td>1.723211</td>\n",
              "      <td>0.08085</td>\n",
              "      <td>0.214785</td>\n",
              "      <td>3.792869</td>\n",
              "      <td>25.136885</td>\n",
              "      <td>12.364366</td>\n",
              "      <td>10.351294</td>\n",
              "      <td>10.623129</td>\n",
              "      <td>10.862600</td>\n",
              "      <td>3.386492</td>\n",
              "      <td>34.117204</td>\n",
              "      <td>12.695020</td>\n",
              "      <td>11.324979</td>\n",
              "      <td>11.317618</td>\n",
              "      <td>8.742242</td>\n",
              "      <td>2.413850</td>\n",
              "      <td>9.664602</td>\n",
              "      <td>3.844666</td>\n",
              "      <td>0.491448</td>\n",
              "      <td>4.456179</td>\n",
              "      <td>0.529528</td>\n",
              "    </tr>\n",
              "    <tr>\n",
              "      <th>min</th>\n",
              "      <td>7.100000e+01</td>\n",
              "      <td>0.000000</td>\n",
              "      <td>0.000000</td>\n",
              "      <td>0.000000</td>\n",
              "      <td>0.000000e+00</td>\n",
              "      <td>0.000000</td>\n",
              "      <td>0.000000e+00</td>\n",
              "      <td>0.000000</td>\n",
              "      <td>0.000000e+00</td>\n",
              "      <td>0.000000e+00</td>\n",
              "      <td>0.00000</td>\n",
              "      <td>0.000000</td>\n",
              "      <td>0.000000</td>\n",
              "      <td>0.000000</td>\n",
              "      <td>0.000000</td>\n",
              "      <td>0.000000</td>\n",
              "      <td>0.000000</td>\n",
              "      <td>0.000000</td>\n",
              "      <td>0.00000</td>\n",
              "      <td>0.000000</td>\n",
              "      <td>0.000000</td>\n",
              "      <td>0.000000</td>\n",
              "      <td>0.000000</td>\n",
              "      <td>0.000000</td>\n",
              "      <td>0.000000</td>\n",
              "      <td>0.000000</td>\n",
              "      <td>0.000000</td>\n",
              "      <td>0.000000</td>\n",
              "      <td>0.000000</td>\n",
              "      <td>0.000000</td>\n",
              "      <td>0.000000</td>\n",
              "      <td>0.000000</td>\n",
              "      <td>0.000000</td>\n",
              "      <td>0.000000</td>\n",
              "      <td>0.000000</td>\n",
              "      <td>0.000000</td>\n",
              "      <td>0.000000</td>\n",
              "      <td>0.000000</td>\n",
              "    </tr>\n",
              "    <tr>\n",
              "      <th>25%</th>\n",
              "      <td>1.044606e+07</td>\n",
              "      <td>1.000000</td>\n",
              "      <td>27.000000</td>\n",
              "      <td>1.000000</td>\n",
              "      <td>4.107600e+05</td>\n",
              "      <td>2.000000</td>\n",
              "      <td>1.215000e+05</td>\n",
              "      <td>0.000000</td>\n",
              "      <td>0.000000e+00</td>\n",
              "      <td>0.000000e+00</td>\n",
              "      <td>0.00000</td>\n",
              "      <td>0.000000</td>\n",
              "      <td>0.000000</td>\n",
              "      <td>0.000000</td>\n",
              "      <td>0.000000</td>\n",
              "      <td>0.000000</td>\n",
              "      <td>0.000000</td>\n",
              "      <td>1.500000</td>\n",
              "      <td>0.00000</td>\n",
              "      <td>0.000000</td>\n",
              "      <td>0.000000</td>\n",
              "      <td>0.000000</td>\n",
              "      <td>0.000000</td>\n",
              "      <td>0.000000</td>\n",
              "      <td>0.000000</td>\n",
              "      <td>0.000000</td>\n",
              "      <td>0.000000</td>\n",
              "      <td>0.000000</td>\n",
              "      <td>0.000000</td>\n",
              "      <td>0.000000</td>\n",
              "      <td>0.000000</td>\n",
              "      <td>0.000000</td>\n",
              "      <td>0.000000</td>\n",
              "      <td>0.000000</td>\n",
              "      <td>0.000000</td>\n",
              "      <td>0.000000</td>\n",
              "      <td>0.000000</td>\n",
              "      <td>0.000000</td>\n",
              "    </tr>\n",
              "    <tr>\n",
              "      <th>50%</th>\n",
              "      <td>3.123081e+07</td>\n",
              "      <td>1.000000</td>\n",
              "      <td>31.000000</td>\n",
              "      <td>2.000000</td>\n",
              "      <td>2.041058e+06</td>\n",
              "      <td>7.000000</td>\n",
              "      <td>2.435185e+05</td>\n",
              "      <td>0.000000</td>\n",
              "      <td>0.000000e+00</td>\n",
              "      <td>0.000000e+00</td>\n",
              "      <td>0.00000</td>\n",
              "      <td>0.000000</td>\n",
              "      <td>0.000000</td>\n",
              "      <td>0.000000</td>\n",
              "      <td>0.000000</td>\n",
              "      <td>0.000000</td>\n",
              "      <td>0.000000</td>\n",
              "      <td>2.000000</td>\n",
              "      <td>0.00000</td>\n",
              "      <td>0.000000</td>\n",
              "      <td>0.000000</td>\n",
              "      <td>0.000000</td>\n",
              "      <td>0.000000</td>\n",
              "      <td>0.000000</td>\n",
              "      <td>1.000000</td>\n",
              "      <td>0.000000</td>\n",
              "      <td>0.000000</td>\n",
              "      <td>1.000000</td>\n",
              "      <td>0.000000</td>\n",
              "      <td>0.000000</td>\n",
              "      <td>0.000000</td>\n",
              "      <td>0.000000</td>\n",
              "      <td>0.000000</td>\n",
              "      <td>0.000000</td>\n",
              "      <td>0.000000</td>\n",
              "      <td>0.000000</td>\n",
              "      <td>0.000000</td>\n",
              "      <td>0.000000</td>\n",
              "    </tr>\n",
              "    <tr>\n",
              "      <th>75%</th>\n",
              "      <td>8.166347e+07</td>\n",
              "      <td>1.000000</td>\n",
              "      <td>35.000000</td>\n",
              "      <td>4.000000</td>\n",
              "      <td>1.016587e+07</td>\n",
              "      <td>23.000000</td>\n",
              "      <td>5.560015e+05</td>\n",
              "      <td>6.000000</td>\n",
              "      <td>7.817000e+05</td>\n",
              "      <td>1.169135e+05</td>\n",
              "      <td>0.00000</td>\n",
              "      <td>0.000000</td>\n",
              "      <td>0.000000</td>\n",
              "      <td>0.000000</td>\n",
              "      <td>0.000000</td>\n",
              "      <td>1.000000</td>\n",
              "      <td>0.000000</td>\n",
              "      <td>3.000000</td>\n",
              "      <td>0.00000</td>\n",
              "      <td>0.000000</td>\n",
              "      <td>0.000000</td>\n",
              "      <td>2.000000</td>\n",
              "      <td>1.000000</td>\n",
              "      <td>1.000000</td>\n",
              "      <td>3.000000</td>\n",
              "      <td>2.000000</td>\n",
              "      <td>0.000000</td>\n",
              "      <td>4.000000</td>\n",
              "      <td>1.000000</td>\n",
              "      <td>3.000000</td>\n",
              "      <td>2.000000</td>\n",
              "      <td>1.000000</td>\n",
              "      <td>0.000000</td>\n",
              "      <td>2.000000</td>\n",
              "      <td>0.000000</td>\n",
              "      <td>0.000000</td>\n",
              "      <td>0.000000</td>\n",
              "      <td>0.000000</td>\n",
              "    </tr>\n",
              "    <tr>\n",
              "      <th>max</th>\n",
              "      <td>1.206779e+08</td>\n",
              "      <td>3.000000</td>\n",
              "      <td>93.000000</td>\n",
              "      <td>11.000000</td>\n",
              "      <td>8.491939e+09</td>\n",
              "      <td>11899.000000</td>\n",
              "      <td>7.189550e+07</td>\n",
              "      <td>474.000000</td>\n",
              "      <td>8.081692e+08</td>\n",
              "      <td>6.682000e+07</td>\n",
              "      <td>11.00000</td>\n",
              "      <td>114.717000</td>\n",
              "      <td>3516.000000</td>\n",
              "      <td>82.000000</td>\n",
              "      <td>19.000000</td>\n",
              "      <td>63.000000</td>\n",
              "      <td>13.000000</td>\n",
              "      <td>45.000000</td>\n",
              "      <td>5.00000</td>\n",
              "      <td>11.000000</td>\n",
              "      <td>135.000000</td>\n",
              "      <td>3405.000000</td>\n",
              "      <td>1499.000000</td>\n",
              "      <td>318.000000</td>\n",
              "      <td>481.000000</td>\n",
              "      <td>917.000000</td>\n",
              "      <td>188.000000</td>\n",
              "      <td>4362.000000</td>\n",
              "      <td>1399.000000</td>\n",
              "      <td>625.000000</td>\n",
              "      <td>780.000000</td>\n",
              "      <td>170.000000</td>\n",
              "      <td>73.000000</td>\n",
              "      <td>239.000000</td>\n",
              "      <td>122.000000</td>\n",
              "      <td>20.000000</td>\n",
              "      <td>451.000000</td>\n",
              "      <td>20.000000</td>\n",
              "    </tr>\n",
              "  </tbody>\n",
              "</table>\n",
              "</div>"
            ],
            "text/plain": [
              "            user_id           sex           age   account_age  \\\n",
              "count  2.013600e+04  20136.000000  20136.000000  20136.000000   \n",
              "mean   4.465333e+07      1.010528     32.054827      2.436581   \n",
              "std    3.770269e+07      0.702819      8.781557      2.011107   \n",
              "min    7.100000e+01      0.000000      0.000000      0.000000   \n",
              "25%    1.044606e+07      1.000000     27.000000      1.000000   \n",
              "50%    3.123081e+07      1.000000     31.000000      2.000000   \n",
              "75%    8.166347e+07      1.000000     35.000000      4.000000   \n",
              "max    1.206779e+08      3.000000     93.000000     11.000000   \n",
              "\n",
              "       total_PG_amount  total_PG_trans        ABS_PG  total_DG_trans  \\\n",
              "count     2.013600e+04    20136.000000  2.013600e+04    20136.000000   \n",
              "mean      2.129659e+07       24.128427  6.901699e+05        7.652364   \n",
              "std       1.257301e+08      100.856101  1.916850e+06       18.400606   \n",
              "min       0.000000e+00        0.000000  0.000000e+00        0.000000   \n",
              "25%       4.107600e+05        2.000000  1.215000e+05        0.000000   \n",
              "50%       2.041058e+06        7.000000  2.435185e+05        0.000000   \n",
              "75%       1.016587e+07       23.000000  5.560015e+05        6.000000   \n",
              "max       8.491939e+09    11899.000000  7.189550e+07      474.000000   \n",
              "\n",
              "       total_DG_amount        ABS_DG  total_insurlater     egold_amt  \\\n",
              "count     2.013600e+04  2.013600e+04       20136.00000  20136.000000   \n",
              "mean      2.246674e+06  1.328217e+05           0.10007      0.033181   \n",
              "std       1.046974e+07  8.267245e+05           0.33749      0.994676   \n",
              "min       0.000000e+00  0.000000e+00           0.00000      0.000000   \n",
              "25%       0.000000e+00  0.000000e+00           0.00000      0.000000   \n",
              "50%       0.000000e+00  0.000000e+00           0.00000      0.000000   \n",
              "75%       7.817000e+05  1.169135e+05           0.00000      0.000000   \n",
              "max       8.081692e+08  6.682000e+07          11.00000    114.717000   \n",
              "\n",
              "       num_trx_egold  total_order_mf  DG_ins_order  PG_ins_order  \\\n",
              "count   20136.000000    20136.000000  20136.000000  20136.000000   \n",
              "mean        1.412098        0.119190      0.128427      0.682112   \n",
              "std        28.466926        1.612559      0.680710      2.111096   \n",
              "min         0.000000        0.000000      0.000000      0.000000   \n",
              "25%         0.000000        0.000000      0.000000      0.000000   \n",
              "50%         0.000000        0.000000      0.000000      0.000000   \n",
              "75%         0.000000        0.000000      0.000000      1.000000   \n",
              "max      3516.000000       82.000000     19.000000     63.000000   \n",
              "\n",
              "       total_order_fi  avg_duration  count_ticket  search_session  \\\n",
              "count    20136.000000  20136.000000   20136.00000    20136.000000   \n",
              "mean         0.006108      2.408019       0.00437        0.025526   \n",
              "std          0.139930      1.723211       0.08085        0.214785   \n",
              "min          0.000000      0.000000       0.00000        0.000000   \n",
              "25%          0.000000      1.500000       0.00000        0.000000   \n",
              "50%          0.000000      2.000000       0.00000        0.000000   \n",
              "75%          0.000000      3.000000       0.00000        0.000000   \n",
              "max         13.000000     45.000000       5.00000       11.000000   \n",
              "\n",
              "               mbkf       fashion    automotive           fnb   electronics  \\\n",
              "count  20136.000000  20136.000000  20136.000000  20136.000000  20136.000000   \n",
              "mean       0.864472      2.106426      1.427940      2.460816      3.431814   \n",
              "std        3.792869     25.136885     12.364366     10.351294     10.623129   \n",
              "min        0.000000      0.000000      0.000000      0.000000      0.000000   \n",
              "25%        0.000000      0.000000      0.000000      0.000000      0.000000   \n",
              "50%        0.000000      0.000000      0.000000      0.000000      1.000000   \n",
              "75%        0.000000      2.000000      1.000000      1.000000      3.000000   \n",
              "max      135.000000   3405.000000   1499.000000    318.000000    481.000000   \n",
              "\n",
              "          handphone        beauty   home_living  sport_hobbies        health  \\\n",
              "count  20136.000000  20136.000000  20136.000000   20136.000000  20136.000000   \n",
              "mean       1.989621      0.716428      4.856178       1.865515      3.400228   \n",
              "std       10.862600      3.386492     34.117204      12.695020     11.324979   \n",
              "min        0.000000      0.000000      0.000000       0.000000      0.000000   \n",
              "25%        0.000000      0.000000      0.000000       0.000000      0.000000   \n",
              "50%        0.000000      0.000000      1.000000       0.000000      0.000000   \n",
              "75%        2.000000      0.000000      4.000000       1.000000      3.000000   \n",
              "max      917.000000    188.000000   4362.000000    1399.000000    625.000000   \n",
              "\n",
              "           other_pg     Utilities  Financial_Services         telco  \\\n",
              "count  20136.000000  20136.000000        20136.000000  20136.000000   \n",
              "mean       2.594160      2.865117            0.460171      3.417859   \n",
              "std       11.317618      8.742242            2.413850      9.664602   \n",
              "min        0.000000      0.000000            0.000000      0.000000   \n",
              "25%        0.000000      0.000000            0.000000      0.000000   \n",
              "50%        0.000000      0.000000            0.000000      0.000000   \n",
              "75%        2.000000      1.000000            0.000000      2.000000   \n",
              "max      780.000000    170.000000           73.000000    239.000000   \n",
              "\n",
              "           tops_ups        travel  entertainment      other_dg  \n",
              "count  20136.000000  20136.000000   20136.000000  20136.000000  \n",
              "mean       0.628675      0.055920       0.138558      0.086065  \n",
              "std        3.844666      0.491448       4.456179      0.529528  \n",
              "min        0.000000      0.000000       0.000000      0.000000  \n",
              "25%        0.000000      0.000000       0.000000      0.000000  \n",
              "50%        0.000000      0.000000       0.000000      0.000000  \n",
              "75%        0.000000      0.000000       0.000000      0.000000  \n",
              "max      122.000000     20.000000     451.000000     20.000000  "
            ]
          },
          "execution_count": 29,
          "metadata": {},
          "output_type": "execute_result"
        }
      ],
      "source": [
        "df.describe()"
      ]
    },
    {
      "cell_type": "code",
      "execution_count": null,
      "metadata": {
        "ExecuteTime": {
          "end_time": "2020-10-05T11:32:09.071531Z",
          "start_time": "2020-10-05T11:32:09.068508Z"
        },
        "id": "EgN5ifJA1GYZ"
      },
      "outputs": [],
      "source": [
        "# df.fillna(0, inplace = True)"
      ]
    },
    {
      "cell_type": "markdown",
      "metadata": {
        "id": "DTkwz6wu1GYZ"
      },
      "source": [
        "## Numeric"
      ]
    },
    {
      "cell_type": "code",
      "execution_count": null,
      "metadata": {
        "ExecuteTime": {
          "end_time": "2020-10-05T11:32:12.336743Z",
          "start_time": "2020-10-05T11:32:12.313356Z"
        },
        "id": "4R5C0sr01GYa"
      },
      "outputs": [],
      "source": [
        "numerics = ['int16', 'int32', 'int64', 'float16', 'float32', 'float64']\n",
        "df_numeric = df.select_dtypes(include=numerics)\n",
        "df_numeric.fillna(0, inplace = True)\n",
        "df_numeric__cols = list(df_numeric.columns)\n",
        "\n",
        "df[df_numeric__cols] = df_numeric"
      ]
    },
    {
      "cell_type": "markdown",
      "metadata": {
        "id": "Nit8_bKm1GYa"
      },
      "source": [
        "## Non-Numeric"
      ]
    },
    {
      "cell_type": "code",
      "execution_count": null,
      "metadata": {
        "ExecuteTime": {
          "end_time": "2020-10-05T11:32:13.560062Z",
          "start_time": "2020-10-05T11:32:13.548093Z"
        },
        "id": "8MeqYPWi1GYa"
      },
      "outputs": [],
      "source": [
        "df_non_numeric = df.select_dtypes(exclude=numerics)"
      ]
    },
    {
      "cell_type": "code",
      "execution_count": null,
      "metadata": {
        "id": "VkS6jgaN1GYb",
        "outputId": "756be93c-5cd9-40a8-9e2b-0dd7861bec49"
      },
      "outputs": [
        {
          "data": {
            "text/plain": [
              "user_id                   0\n",
              "sex                       0\n",
              "age                       0\n",
              "account_age               0\n",
              "spender_type             47\n",
              "promo_user               47\n",
              "dg_profile             9620\n",
              "location                  8\n",
              "total_PG_amount           0\n",
              "total_PG_trans            0\n",
              "ABS_PG                    0\n",
              "total_DG_trans            0\n",
              "total_DG_amount           0\n",
              "ABS_DG                    0\n",
              "tier                    154\n",
              "total_insurlater          0\n",
              "egold_amt                 0\n",
              "num_trx_egold             0\n",
              "total_order_mf            0\n",
              "last_egold_trx        17049\n",
              "DG_ins_order              0\n",
              "PG_ins_order              0\n",
              "total_order_fi            0\n",
              "PG_catname             2299\n",
              "DG_catname            10752\n",
              "gateway_name             64\n",
              "cicilan_loan              0\n",
              "payment_method_il     18272\n",
              "avg_duration              0\n",
              "most_courier            403\n",
              "count_ticket              0\n",
              "search_session            0\n",
              "mbkf                      0\n",
              "fashion                   0\n",
              "automotive                0\n",
              "fnb                       0\n",
              "electronics               0\n",
              "handphone                 0\n",
              "beauty                    0\n",
              "home_living               0\n",
              "sport_hobbies             0\n",
              "health                    0\n",
              "other_pg                  0\n",
              "Utilities                 0\n",
              "Financial_Services        0\n",
              "telco                     0\n",
              "tops_ups                  0\n",
              "travel                    0\n",
              "entertainment             0\n",
              "other_dg                  0\n",
              "Insurlater                0\n",
              "dtype: int64"
            ]
          },
          "execution_count": 32,
          "metadata": {},
          "output_type": "execute_result"
        }
      ],
      "source": [
        "df.isnull().sum()"
      ]
    },
    {
      "cell_type": "code",
      "execution_count": null,
      "metadata": {
        "ExecuteTime": {
          "end_time": "2020-10-05T11:32:49.195798Z",
          "start_time": "2020-10-05T11:32:49.172828Z"
        },
        "id": "pzl4DNJd1GYb"
      },
      "outputs": [],
      "source": [
        "df_non_numeric.fillna('Null', inplace=True)\n",
        "df_non_numeric__cols = df_non_numeric.columns\n",
        "df[df_non_numeric__cols] = df_non_numeric"
      ]
    },
    {
      "cell_type": "markdown",
      "metadata": {
        "id": "ZdWIa-d21GYb"
      },
      "source": [
        "## WoE"
      ]
    },
    {
      "cell_type": "code",
      "execution_count": null,
      "metadata": {
        "ExecuteTime": {
          "end_time": "2020-10-05T11:33:46.558163Z",
          "start_time": "2020-10-05T11:33:46.433471Z"
        },
        "id": "3_IO_qPq1GYb"
      },
      "outputs": [],
      "source": [
        "import scorecardpy as sc\n",
        "df.Insurlater = df.Insurlater.apply(lambda x: 1 if x == 'Yes' else 0)"
      ]
    },
    {
      "cell_type": "code",
      "execution_count": null,
      "metadata": {
        "ExecuteTime": {
          "start_time": "2020-10-05T11:36:31.763Z"
        },
        "scrolled": true,
        "id": "IoKbJCoz1GYb",
        "outputId": "fe2ef82a-5880-41bd-90f4-6c35b52a1496"
      },
      "outputs": [
        {
          "name": "stdout",
          "output_type": "stream",
          "text": [
            "[INFO] creating woe binning ...\n",
            ">>> There are 2 variables have too many unique non-numberic values, which might cause the binning process slow. Please double check the following variables: \n",
            "location, PG_catname\n",
            ">>> Continue the binning process?\n",
            "1: yes \n",
            "2: no\n",
            "Selection: 1\n",
            "Binning on 20136 rows and 51 columns in 00:01:55\n"
          ]
        }
      ],
      "source": [
        "bins = sc.woebin(df, y = 'Insurlater',\n",
        "                 min_perc_fine_bin=0.02,\n",
        "                 min_perc_coarse_bin=0.05,\n",
        "                 stop_limit=0.1,\n",
        "                 max_num_bin=8,\n",
        "                 method='tree')"
      ]
    },
    {
      "cell_type": "code",
      "execution_count": null,
      "metadata": {
        "id": "kTfkawfU1GYb",
        "outputId": "8d4bad06-5f01-4cd3-a17f-224e66c008b3"
      },
      "outputs": [
        {
          "name": "stdout",
          "output_type": "stream",
          "text": [
            "[INFO] creating woe binning ...\n",
            ">>> There are 2 variables have too many unique non-numberic values, which might cause the binning process slow. Please double check the following variables: \n",
            "location, PG_catname\n",
            ">>> Continue the binning process?\n",
            "1: yes \n",
            "2: no\n",
            "Selection: 1\n",
            "Binning on 20136 rows and 51 columns in 00:02:00\n",
            "[INFO] converting into woe values ...\n"
          ]
        }
      ],
      "source": [
        "df_woe = sc.woebin_ply(df, sc.woebin(df, y=\"Insurlater\"))"
      ]
    },
    {
      "cell_type": "code",
      "execution_count": null,
      "metadata": {
        "scrolled": false,
        "id": "kUPGvlMk1GYb",
        "outputId": "639aaeb7-fb3f-46c7-ee93-f7f3fc33d73e"
      },
      "outputs": [
        {
          "data": {
            "text/plain": [
              "total_PG_amount       2.285088\n",
              "electronics           1.884314\n",
              "total_PG_trans        1.658373\n",
              "handphone             1.537374\n",
              "PG_catname            1.309128\n",
              "tier                  1.301987\n",
              "ABS_PG                1.257896\n",
              "home_living           0.948124\n",
              "total_DG_amount       0.945003\n",
              "health                0.924620\n",
              "dg_profile            0.894442\n",
              "total_DG_trans        0.874756\n",
              "ABS_DG                0.826850\n",
              "user_id               0.796471\n",
              "account_age           0.770710\n",
              "PG_ins_order          0.767157\n",
              "other_pg              0.764667\n",
              "DG_catname            0.720048\n",
              "sport_hobbies         0.703042\n",
              "sex                   0.681020\n",
              "automotive            0.650826\n",
              "Utilities             0.596861\n",
              "cicilan_loan          0.579399\n",
              "telco                 0.565186\n",
              "fnb                   0.557792\n",
              "age                   0.517476\n",
              "gateway_name          0.489557\n",
              "location              0.429865\n",
              "Financial_Services    0.363859\n",
              "tops_ups              0.360661\n",
              "fashion               0.314789\n",
              "last_egold_trx        0.278642\n",
              "num_trx_egold         0.220580\n",
              "DG_ins_order          0.210324\n",
              "egold_amt             0.193832\n",
              "avg_duration          0.177450\n",
              "promo_user            0.175618\n",
              "spender_type          0.174691\n",
              "beauty                0.163890\n",
              "mbkf                  0.147074\n",
              "most_courier          0.133423\n",
              "other_dg              0.098198\n",
              "total_order_fi        0.000000\n",
              "total_insurlater      0.000000\n",
              "total_order_mf        0.000000\n",
              "travel                0.000000\n",
              "count_ticket          0.000000\n",
              "payment_method_il     0.000000\n",
              "entertainment         0.000000\n",
              "search_session        0.000000\n",
              "dtype: float64"
            ]
          },
          "execution_count": 36,
          "metadata": {},
          "output_type": "execute_result"
        }
      ],
      "source": [
        "iv_dict = {info:bins[info].total_iv[0] for info in bins}\n",
        "#iv_sumprint=\n",
        "pd.Series(iv_dict).sort_values(ascending = False)\n",
        "#iv_sumprint.to_csv('print_iv_below',index=True,header=True)"
      ]
    },
    {
      "cell_type": "code",
      "execution_count": null,
      "metadata": {
        "id": "kKeXqCGv1GYb",
        "outputId": "02c4fa13-8668-4d43-f23f-183d198fbc00"
      },
      "outputs": [
        {
          "data": {
            "text/plain": [
              "Insurlater                  int64\n",
              "location_woe              float64\n",
              "sex_woe                   float64\n",
              "total_insurlater_woe      float64\n",
              "DG_catname_woe            float64\n",
              "user_id_woe               float64\n",
              "travel_woe                float64\n",
              "total_PG_amount_woe       float64\n",
              "other_pg_woe              float64\n",
              "electronics_woe           float64\n",
              "PG_ins_order_woe          float64\n",
              "egold_amt_woe             float64\n",
              "health_woe                float64\n",
              "account_age_woe           float64\n",
              "DG_ins_order_woe          float64\n",
              "dg_profile_woe            float64\n",
              "tops_ups_woe              float64\n",
              "fashion_woe               float64\n",
              "num_trx_egold_woe         float64\n",
              "beauty_woe                float64\n",
              "entertainment_woe         float64\n",
              "mbkf_woe                  float64\n",
              "total_DG_amount_woe       float64\n",
              "total_order_mf_woe        float64\n",
              "payment_method_il_woe     float64\n",
              "Utilities_woe             float64\n",
              "total_PG_trans_woe        float64\n",
              "total_DG_trans_woe        float64\n",
              "fnb_woe                   float64\n",
              "automotive_woe            float64\n",
              "cicilan_loan_woe          float64\n",
              "tier_woe                  float64\n",
              "Financial_Services_woe    float64\n",
              "other_dg_woe              float64\n",
              "search_session_woe        float64\n",
              "count_ticket_woe          float64\n",
              "age_woe                   float64\n",
              "telco_woe                 float64\n",
              "PG_catname_woe            float64\n",
              "handphone_woe             float64\n",
              "most_courier_woe          float64\n",
              "spender_type_woe          float64\n",
              "promo_user_woe            float64\n",
              "ABS_DG_woe                float64\n",
              "ABS_PG_woe                float64\n",
              "home_living_woe           float64\n",
              "last_egold_trx_woe        float64\n",
              "avg_duration_woe          float64\n",
              "total_order_fi_woe        float64\n",
              "sport_hobbies_woe         float64\n",
              "gateway_name_woe          float64\n",
              "dtype: object"
            ]
          },
          "execution_count": 44,
          "metadata": {},
          "output_type": "execute_result"
        }
      ],
      "source": [
        "df_woe.dtypes"
      ]
    },
    {
      "cell_type": "markdown",
      "metadata": {
        "id": "93RZD4021GYb"
      },
      "source": [
        "---"
      ]
    },
    {
      "cell_type": "code",
      "execution_count": null,
      "metadata": {
        "id": "gizyPlrl1GYc",
        "outputId": "916c3476-1759-4da1-8d21-8b6e72e03708"
      },
      "outputs": [
        {
          "data": {
            "image/png": "[encoded data removed]",
            "text/plain": [
              "<Figure size 1440x1440 with 2 Axes>"
            ]
          },
          "metadata": {},
          "output_type": "display_data"
        }
      ],
      "source": [
        "df_below_corr = df_woe[['Insurlater','total_PG_amount_woe','total_PG_trans_woe','handphone_woe','PG_catname_woe','tier_woe',\n",
        "                        'ABS_PG_woe','home_living_woe','total_DG_amount_woe','dg_profile_woe','total_DG_trans_woe','ABS_DG_woe' ,\n",
        "                        'account_age_woe','PG_ins_order_woe','other_pg_woe','DG_catname_woe','sport_hobbies_woe','sex_woe','automotive_woe',\n",
        "                        'Utilities_woe','cicilan_loan_woe','telco_woe' ,'fnb_woe','age_woe','gateway_name_woe','location_woe',\n",
        "                       'Financial_Services_woe','tops_ups_woe' ,'fashion_woe','last_egold_trx_woe','num_trx_egold_woe','DG_ins_order_woe']]\n",
        "\n",
        "\n",
        "corr_matrix = df_below_corr.corr()\n",
        "mask = np.zeros_like(corr_matrix, dtype=np.bool)\n",
        "mask[np.triu_indices_from(mask)]= True\n",
        "# Heatmap\n",
        "import seaborn as sns\n",
        "f, ax = plt.subplots(figsize=(20, 20))\n",
        "heatmap = sns.heatmap(corr_matrix,\n",
        "square = True,\n",
        "mask = mask,\n",
        "linewidths = .5,\n",
        "cmap = 'coolwarm',\n",
        "cbar_kws = {'shrink': .4, 'ticks' : [-1, -.5, 0, 0.5, 1]},\n",
        "vmin = -1,\n",
        "vmax = 1,\n",
        "annot = True,\n",
        "annot_kws = {'size': 8})\n",
        "#add the column names as labels\n",
        "ax.set_yticklabels(corr_matrix.columns, rotation = 0)\n",
        "ax.set_xticklabels(corr_matrix.columns)\n",
        "sns.set_style({'xtick.bottom': True}, {'ytick.left': True})"
      ]
    },
    {
      "cell_type": "code",
      "execution_count": null,
      "metadata": {
        "id": "u6Mzs6jI1GYc"
      },
      "outputs": [],
      "source": [
        "from statsmodels.stats.outliers_influence import variance_inflation_factor\n",
        "from statsmodels.tools.tools import add_constant\n",
        "import statsmodels.formula.api as sm"
      ]
    },
    {
      "cell_type": "code",
      "execution_count": null,
      "metadata": {
        "id": "d0QOlNbb1GYc"
      },
      "outputs": [],
      "source": [
        "def vif_cal(input_data, dependent_col):\n",
        "    x_vars=input_data.drop([dependent_col], axis=1)\n",
        "    xvar_names=x_vars.columns\n",
        "    for i in range(0,xvar_names.shape[0]):\n",
        "        y=x_vars[xvar_names[i]]\n",
        "        x=x_vars[xvar_names.drop(xvar_names[i])]\n",
        "        rsq=sm.ols(formula=\"y~x\", data=x_vars).fit().rsquared\n",
        "        vif=round(1/(1-rsq),2)\n",
        "        print (xvar_names[i], \" VIF = \" , vif)"
      ]
    },
    {
      "cell_type": "code",
      "execution_count": null,
      "metadata": {
        "id": "hcUC0-9C1GYc",
        "outputId": "3552cf9c-a84c-45db-b2f1-04d8821425ae"
      },
      "outputs": [
        {
          "name": "stdout",
          "output_type": "stream",
          "text": [
            "handphone_woe  VIF =  1.54\n",
            "tier_woe  VIF =  2.28\n",
            "ABS_PG_woe  VIF =  1.26\n",
            "home_living_woe  VIF =  2.05\n",
            "account_age_woe  VIF =  1.7\n",
            "PG_ins_order_woe  VIF =  1.39\n",
            "sport_hobbies_woe  VIF =  1.48\n",
            "sex_woe  VIF =  2.14\n",
            "automotive_woe  VIF =  1.45\n",
            "cicilan_loan_woe  VIF =  1.29\n",
            "telco_woe  VIF =  1.46\n",
            "fnb_woe  VIF =  1.65\n",
            "age_woe  VIF =  1.97\n",
            "gateway_name_woe  VIF =  1.17\n",
            "Financial_Services_woe  VIF =  1.21\n",
            "tops_ups_woe  VIF =  1.18\n",
            "num_trx_egold_woe  VIF =  1.1\n",
            "DG_ins_order_woe  VIF =  1.22\n"
          ]
        }
      ],
      "source": [
        "#Calculating VIF values using that function\n",
        "df_below_corr2=df_below_corr[['Insurlater','handphone_woe','tier_woe',\n",
        "                        'ABS_PG_woe','home_living_woe',\n",
        "                        'account_age_woe','PG_ins_order_woe','sport_hobbies_woe','sex_woe','automotive_woe',\n",
        "                        'cicilan_loan_woe','telco_woe' ,'fnb_woe','age_woe','gateway_name_woe',\n",
        "                       'Financial_Services_woe','tops_ups_woe' ,'num_trx_egold_woe','DG_ins_order_woe']]\n",
        "vif_cal(input_data=df_below_corr2, dependent_col=\"Insurlater\")"
      ]
    },
    {
      "cell_type": "code",
      "execution_count": null,
      "metadata": {
        "id": "TAjiROXS1GYc"
      },
      "outputs": [],
      "source": [
        "#trial using RFE\n",
        "\n",
        "from sklearn.feature_selection import RFE\n",
        "from sklearn.linear_model import LogisticRegression\n",
        "\n"
      ]
    },
    {
      "cell_type": "code",
      "execution_count": null,
      "metadata": {
        "id": "EMETs0Gm1GYc",
        "outputId": "d04b5f26-af84-425c-8e49-8ab2bc2dfa10"
      },
      "outputs": [
        {
          "name": "stdout",
          "output_type": "stream",
          "text": [
            "Num Features: 3\n",
            "Selected Features: [ True False  True False False False False False False False False False\n",
            " False  True False False False False]\n",
            "Feature Ranking: [ 1 16  1  5 11  8 12  2 13 10  7 14  6  1  3  9  4 15]\n",
            "Index(['handphone_woe', 'ABS_PG_woe', 'gateway_name_woe'], dtype='object')\n"
          ]
        },
        {
          "data": {
            "text/plain": [
              "Index(['handphone_woe', 'ABS_PG_woe', 'gateway_name_woe'], dtype='object')"
            ]
          },
          "execution_count": 59,
          "metadata": {},
          "output_type": "execute_result"
        }
      ],
      "source": [
        "X=df_below_corr2.drop(\"Insurlater\",1)\n",
        "Y = df_below_corr2[\"Insurlater\"]\n",
        "cols = list(X.columns)\n",
        "model = LogisticRegression()\n",
        "rfe = RFE(model, 3)\n",
        "fit = rfe.fit(X, Y)\n",
        "temp = pd.Series(rfe.support_,index = cols)\n",
        "selected_features_rfe = temp[temp==True].index\n",
        "print(\"Num Features: %s\" % (fit.n_features_))\n",
        "print(\"Selected Features: %s\" % (fit.support_))\n",
        "print(\"Feature Ranking: %s\" % (fit.ranking_))\n",
        "print(selected_features_rfe)\n",
        "\n",
        "selected_features_rfe"
      ]
    },
    {
      "cell_type": "code",
      "execution_count": null,
      "metadata": {
        "id": "MsMAJ3GJ1GYc",
        "outputId": "48d13507-c6ff-49e7-8908-d108bd4a2a90"
      },
      "outputs": [
        {
          "data": {
            "text/plain": [
              "array([1, 5, 1, 1, 1, 1, 1, 1, 2, 1, 1, 3, 1, 1, 1, 1, 1, 4])"
            ]
          },
          "execution_count": 60,
          "metadata": {},
          "output_type": "execute_result"
        }
      ],
      "source": [
        "#trial using RFECV\n",
        "\n",
        "from sklearn.feature_selection import RFECV\n",
        "from sklearn.svm import SVR\n",
        "X=df_below_corr2.drop(\"Insurlater\",1)\n",
        "Y = df_below_corr2[\"Insurlater\"]\n",
        "model = LogisticRegression()\n",
        "selector = RFECV(model, step=1, cv=100)\n",
        "selector = selector.fit(X, Y)\n",
        "selector.support_\n",
        "selector.ranking_"
      ]
    },
    {
      "cell_type": "code",
      "execution_count": null,
      "metadata": {
        "id": "svuzgVUK1GYc",
        "outputId": "ce6f72ed-b2af-4fcd-e865-82278ffde7e5"
      },
      "outputs": [
        {
          "data": {
            "text/plain": [
              "Insurlater             1.000000\n",
              "total_PG_amount_woe    0.353236\n",
              "total_PG_trans_woe     0.329834\n",
              "handphone_woe          0.382438\n",
              "tier_woe               0.350829\n",
              "home_living_woe        0.286362\n",
              "total_DG_amount_woe    0.298756\n",
              "dg_profile_woe         0.276247\n",
              "total_DG_trans_woe     0.281981\n",
              "ABS_DG_woe             0.267885\n",
              "PG_ins_order_woe       0.294461\n",
              "other_pg_woe           0.265457\n",
              "sport_hobbies_woe      0.258019\n",
              "automotive_woe         0.260791\n",
              "Utilities_woe          0.250283\n",
              "cicilan_loan_woe       0.266028\n",
              "Name: Insurlater, dtype: float64"
            ]
          },
          "execution_count": 61,
          "metadata": {},
          "output_type": "execute_result"
        }
      ],
      "source": [
        "cor_target = abs(corr_matrix[\"Insurlater\"])\n",
        "#Selecting highly correlated features\n",
        "relevant_features = cor_target[cor_target>0.25]\n",
        "relevant_features"
      ]
    },
    {
      "cell_type": "code",
      "execution_count": null,
      "metadata": {
        "id": "P2vti-0e1GYd",
        "outputId": "681726bd-8975-409e-91e4-2f8fc89a8714"
      },
      "outputs": [
        {
          "name": "stdout",
          "output_type": "stream",
          "text": [
            "['total_PG_amount_woe', 'total_PG_trans_woe', 'handphone_woe', 'PG_catname_woe', 'tier_woe', 'ABS_PG_woe', 'home_living_woe', 'total_DG_trans_woe', 'PG_ins_order_woe', 'sport_hobbies_woe', 'automotive_woe', 'Utilities_woe', 'cicilan_loan_woe', 'telco_woe', 'age_woe', 'gateway_name_woe', 'location_woe', 'Financial_Services_woe', 'tops_ups_woe', 'last_egold_trx_woe', 'num_trx_egold_woe']\n"
          ]
        }
      ],
      "source": [
        "#trial backward elimination - skipped\n",
        "X=df_below_corr.drop(\"Insurlater\",1)\n",
        "y = df_below_corr[\"Insurlater\"]\n",
        "cols = list(X.columns)\n",
        "pmax = 1\n",
        "while (len(cols)>0):\n",
        "    p= []\n",
        "    X_1 = X[cols]\n",
        "    X_1 = add_constant(X_1)\n",
        "    model = sm.ols('y~X_1',data=df_below_corr).fit()\n",
        "    p = pd.Series(model.pvalues.values[2:],index = cols)\n",
        "    pmax = max(p)\n",
        "    feature_with_p_max = p.idxmax()\n",
        "    if(pmax>0.05):\n",
        "        cols.remove(feature_with_p_max)\n",
        "    else:\n",
        "        break\n",
        "selected_features_BE = cols\n",
        "print(selected_features_BE)"
      ]
    },
    {
      "cell_type": "code",
      "execution_count": null,
      "metadata": {
        "id": "l0tGaic61GYd"
      },
      "outputs": [],
      "source": [
        "from sklearn.feature_selection import RFE\n",
        "from sklearn.linear_model import LogisticRegression"
      ]
    },
    {
      "cell_type": "code",
      "execution_count": null,
      "metadata": {
        "id": "9ZuS6HWT1GYd",
        "outputId": "10490d98-0baf-4deb-e575-485180ad2a47"
      },
      "outputs": [
        {
          "name": "stdout",
          "output_type": "stream",
          "text": [
            "Optimization terminated successfully.\n",
            "         Current function value: 0.418385\n",
            "         Iterations 7\n",
            "                           Results: Logit\n",
            "====================================================================\n",
            "Model:               Logit             Pseudo R-squared:  -0.356    \n",
            "Dependent Variable:  Insurlater        AIC:               16885.2177\n",
            "Date:                2020-10-06 11:59  BIC:               17027.6024\n",
            "No. Observations:    20136             Log-Likelihood:    -8424.6   \n",
            "Df Model:            17                LL-Null:           -6210.8   \n",
            "Df Residuals:        20118             LLR p-value:       1.0000    \n",
            "Converged:           1.0000            Scale:             1.0000    \n",
            "No. Iterations:      7.0000                                         \n",
            "--------------------------------------------------------------------\n",
            "                       Coef.  Std.Err.    z    P>|z|   [0.025 0.975]\n",
            "--------------------------------------------------------------------\n",
            "handphone_woe          0.5274   0.0178 29.6715 0.0000  0.4926 0.5622\n",
            "tier_woe               0.0624   0.0231  2.7012 0.0069  0.0171 0.1078\n",
            "ABS_PG_woe             0.4127   0.0169 24.4424 0.0000  0.3796 0.4458\n",
            "home_living_woe        0.1101   0.0267  4.1218 0.0000  0.0578 0.1625\n",
            "account_age_woe        0.0428   0.0251  1.7064 0.0879 -0.0064 0.0919\n",
            "PG_ins_order_woe       0.2411   0.0269  8.9606 0.0000  0.1883 0.2938\n",
            "sport_hobbies_woe      0.0831   0.0271  3.0643 0.0022  0.0300 0.1363\n",
            "sex_woe                0.2239   0.0278  8.0416 0.0000  0.1693 0.2784\n",
            "automotive_woe         0.1477   0.0293  5.0387 0.0000  0.0903 0.2052\n",
            "cicilan_loan_woe       0.2075   0.0305  6.8082 0.0000  0.1478 0.2673\n",
            "telco_woe              0.1561   0.0309  5.0447 0.0000  0.0955 0.2167\n",
            "fnb_woe                0.0265   0.0334  0.7943 0.4270 -0.0390 0.0920\n",
            "age_woe                0.0882   0.0331  2.6663 0.0077  0.0234 0.1531\n",
            "gateway_name_woe       0.3632   0.0273 13.3121 0.0000  0.3097 0.4167\n",
            "Financial_Services_woe 0.3531   0.0400  8.8172 0.0000  0.2746 0.4316\n",
            "tops_ups_woe           0.2751   0.0395  6.9653 0.0000  0.1977 0.3525\n",
            "num_trx_egold_woe      0.2755   0.0483  5.7008 0.0000  0.1808 0.3702\n",
            "DG_ins_order_woe       0.0345   0.0538  0.6406 0.5218 -0.0710 0.1400\n",
            "====================================================================\n",
            "\n"
          ]
        }
      ],
      "source": [
        "#implementing the model\n",
        "\n",
        "import statsmodels.api as sm\n",
        "X=df_below_corr2.drop(\"Insurlater\",1)\n",
        "Y = df_below_corr2[\"Insurlater\"]\n",
        "\n",
        "\n",
        "logit_model=sm.Logit(Y,X)\n",
        "result=logit_model.fit()\n",
        "print(result.summary2())"
      ]
    },
    {
      "cell_type": "code",
      "execution_count": null,
      "metadata": {
        "id": "eKO7s4tI1GYd"
      },
      "outputs": [],
      "source": [
        "X1=df_below_corr2.drop([\"Insurlater\", \"account_age_woe\", \"fnb_woe\", \"DG_ins_order_woe\"],1)\n",
        "Y = df_below_corr2[\"Insurlater\"]"
      ]
    },
    {
      "cell_type": "code",
      "execution_count": null,
      "metadata": {
        "scrolled": false,
        "id": "on4rXxy31GYd",
        "outputId": "e993e9a1-e189-4283-8792-c47d30d042ff"
      },
      "outputs": [
        {
          "name": "stdout",
          "output_type": "stream",
          "text": [
            "Optimization terminated successfully.\n",
            "         Current function value: 0.418490\n",
            "         Iterations 7\n",
            "                          Results: Logit\n",
            "===================================================================\n",
            "Model:                Logit            Pseudo R-squared: -0.357    \n",
            "Dependent Variable:   Insurlater       AIC:              16883.4096\n",
            "Date:                 2020-10-06 13:10 BIC:              17002.0635\n",
            "No. Observations:     20136            Log-Likelihood:   -8426.7   \n",
            "Df Model:             14               LL-Null:          -6210.8   \n",
            "Df Residuals:         20121            LLR p-value:      1.0000    \n",
            "Converged:            1.0000           Scale:            1.0000    \n",
            "No. Iterations:       7.0000                                       \n",
            "-------------------------------------------------------------------\n",
            "                       Coef.  Std.Err.    z    P>|z|  [0.025 0.975]\n",
            "-------------------------------------------------------------------\n",
            "handphone_woe          0.5260   0.0178 29.6246 0.0000 0.4912 0.5608\n",
            "tier_woe               0.0715   0.0225  3.1797 0.0015 0.0274 0.1156\n",
            "ABS_PG_woe             0.4129   0.0168 24.5031 0.0000 0.3798 0.4459\n",
            "home_living_woe        0.1213   0.0249  4.8687 0.0000 0.0724 0.1701\n",
            "PG_ins_order_woe       0.2450   0.0268  9.1335 0.0000 0.1924 0.2976\n",
            "sport_hobbies_woe      0.0855   0.0270  3.1624 0.0016 0.0325 0.1385\n",
            "sex_woe                0.2341   0.0266  8.8158 0.0000 0.1820 0.2861\n",
            "automotive_woe         0.1476   0.0293  5.0361 0.0000 0.0902 0.2051\n",
            "cicilan_loan_woe       0.2169   0.0301  7.1979 0.0000 0.1579 0.2760\n",
            "telco_woe              0.1626   0.0304  5.3424 0.0000 0.1030 0.2223\n",
            "age_woe                0.0963   0.0329  2.9312 0.0034 0.0319 0.1607\n",
            "gateway_name_woe       0.3670   0.0271 13.5266 0.0000 0.3138 0.4202\n",
            "Financial_Services_woe 0.3601   0.0397  9.0734 0.0000 0.2824 0.4379\n",
            "tops_ups_woe           0.2815   0.0394  7.1502 0.0000 0.2043 0.3586\n",
            "num_trx_egold_woe      0.2797   0.0483  5.7918 0.0000 0.1850 0.3743\n",
            "===================================================================\n",
            "\n"
          ]
        }
      ],
      "source": [
        "#implementing the model after eliminate\n",
        "\n",
        "logit_model=sm.Logit(Y,X1)\n",
        "result=logit_model.fit()\n",
        "print(result.summary2())"
      ]
    },
    {
      "cell_type": "code",
      "execution_count": null,
      "metadata": {
        "id": "gIFHSFoH1GYd",
        "outputId": "c695672e-2d1b-46be-c2aa-c7877c758210"
      },
      "outputs": [
        {
          "name": "stdout",
          "output_type": "stream",
          "text": [
            "[[0.48654195 0.04558942 0.6560553  0.19130025 0.19440879 0.16044946\n",
            "  0.38889779 0.09906852 0.13154789 0.18987073 0.2950147  0.47328641\n",
            "  0.23388484 0.10189718 0.32715619]]\n",
            "[-0.04090724]\n"
          ]
        }
      ],
      "source": [
        "from sklearn.linear_model import LogisticRegression\n",
        "from sklearn.model_selection import train_test_split\n",
        "from sklearn import metrics\n",
        "X_train, X_test, Y_train, Y_test = train_test_split(X1, Y, test_size=0.3, random_state=0)\n",
        "logreg = LogisticRegression(class_weight='balanced')\n",
        "#fit the model on train dataset\n",
        "logreg.fit(X_train, Y_train)\n",
        "\n",
        "W = logreg.coef_\n",
        "b = logreg.intercept_\n",
        "\n",
        "print(W)\n",
        "print(b)\n",
        "\n"
      ]
    },
    {
      "cell_type": "code",
      "execution_count": null,
      "metadata": {
        "id": "409FZMmD1GYd",
        "outputId": "ea735808-77d4-4aa9-9088-354721abc4c6"
      },
      "outputs": [
        {
          "name": "stdout",
          "output_type": "stream",
          "text": [
            "Accuracy of logistic regression classifier on test set: 0.8065\n"
          ]
        }
      ],
      "source": [
        "#Predicting the test set results and calculating the accuracy\n",
        "\n",
        "\n",
        "Y_pred = logreg.predict(X_test)\n",
        "print('Accuracy of logistic regression classifier on test set: {:.4f}'.format(logreg.score(X_test, Y_test)))"
      ]
    },
    {
      "cell_type": "code",
      "execution_count": null,
      "metadata": {
        "id": "Fohoaria1GYh",
        "outputId": "c4e91581-48c2-4f04-f217-2c16903f667a"
      },
      "outputs": [
        {
          "name": "stdout",
          "output_type": "stream",
          "text": [
            "[[4398 1074]\n",
            " [  95  474]]\n"
          ]
        }
      ],
      "source": [
        "#Confusion Matrix\n",
        "from sklearn.metrics import confusion_matrix\n",
        "confusion_matrix = confusion_matrix(Y_test, Y_pred)\n",
        "print(confusion_matrix)"
      ]
    },
    {
      "cell_type": "code",
      "execution_count": null,
      "metadata": {
        "scrolled": true,
        "id": "gCqG3ELZ1GYh",
        "outputId": "b29fc427-a667-411e-9d34-27d5e7d32002"
      },
      "outputs": [
        {
          "name": "stdout",
          "output_type": "stream",
          "text": [
            "              precision    recall  f1-score   support\n",
            "\n",
            "           0       0.98      0.80      0.88      5472\n",
            "           1       0.31      0.83      0.45       569\n",
            "\n",
            "    accuracy                           0.81      6041\n",
            "   macro avg       0.64      0.82      0.67      6041\n",
            "weighted avg       0.92      0.81      0.84      6041\n",
            "\n"
          ]
        }
      ],
      "source": [
        "from sklearn.metrics import classification_report\n",
        "print(classification_report(Y_test, Y_pred))"
      ]
    },
    {
      "cell_type": "code",
      "execution_count": null,
      "metadata": {
        "id": "prib2TEu1GYh",
        "outputId": "e1858aef-d8be-49e3-a9b2-233833928eec"
      },
      "outputs": [
        {
          "data": {
            "image/png": "[encoded data removed]",
            "text/plain": [
              "<Figure size 432x288 with 1 Axes>"
            ]
          },
          "metadata": {},
          "output_type": "display_data"
        }
      ],
      "source": [
        "#ROC AUC TEST DATA\n",
        "from sklearn.metrics import roc_auc_score\n",
        "from sklearn.metrics import roc_curve\n",
        "logit_roc_auc = roc_auc_score(Y_test, logreg.predict(X_test))\n",
        "fpr, tpr, thresholds = roc_curve(Y_test, logreg.predict_proba(X_test)[:,1])\n",
        "plt.figure()\n",
        "plt.plot(fpr, tpr, label='Logistic Regression (area = %0.4f)' % logit_roc_auc)\n",
        "plt.plot([0, 1], [0, 1],'r--')\n",
        "plt.xlim([0.0, 1.0])\n",
        "plt.ylim([0.0, 1.05])\n",
        "plt.xlabel('False Positive Rate')\n",
        "plt.ylabel('True Positive Rate')\n",
        "plt.title('Receiver operating characteristic')\n",
        "plt.legend(loc=\"lower right\")\n",
        "plt.savefig('Log_ROC')\n",
        "plt.show()"
      ]
    },
    {
      "cell_type": "code",
      "execution_count": null,
      "metadata": {
        "scrolled": true,
        "id": "Nf9PGvzz1GYh",
        "outputId": "cb845602-cc03-40b2-dbfc-ac4a91e037d0"
      },
      "outputs": [
        {
          "data": {
            "image/png": "[encoded data removed]",
            "text/plain": [
              "<Figure size 432x288 with 1 Axes>"
            ]
          },
          "metadata": {},
          "output_type": "display_data"
        }
      ],
      "source": [
        "#ROC AUC TRAIN DATA\n",
        "from sklearn.metrics import roc_auc_score\n",
        "from sklearn.metrics import roc_curve\n",
        "logit_roc_auc = roc_auc_score(Y_train, logreg.predict(X_train))\n",
        "fpr, tpr, thresholds = roc_curve(Y_train, logreg.predict_proba(X_train)[:,1])\n",
        "plt.figure()\n",
        "plt.plot(fpr, tpr, label='Logistic Regression (area = %0.4f)' % logit_roc_auc)\n",
        "plt.plot([0, 1], [0, 1],'r--')\n",
        "plt.xlim([0.0, 1.0])\n",
        "plt.ylim([0.0, 1.05])\n",
        "plt.xlabel('False Positive Rate')\n",
        "plt.ylabel('True Positive Rate')\n",
        "plt.title('Receiver operating characteristic')\n",
        "plt.legend(loc=\"lower right\")\n",
        "plt.savefig('Log_ROC')\n",
        "plt.show()"
      ]
    },
    {
      "cell_type": "code",
      "execution_count": null,
      "metadata": {
        "id": "MoLcfuu51GYi",
        "outputId": "82152226-b70f-4cfc-a5ed-c0b60999a595"
      },
      "outputs": [
        {
          "name": "stdout",
          "output_type": "stream",
          "text": [
            "[[0.47291594 0.05192895 0.58857154 0.1355659  0.19370865 0.11271051\n",
            "  0.43047393 0.06886854 0.13826021 0.19040658 0.36316021 0.46780397\n",
            "  0.2594882  0.15629725 0.26150949]]\n",
            "[-2.32826534]\n"
          ]
        }
      ],
      "source": [
        "X_train, X_test, Y_train, Y_test = train_test_split(X1, Y, test_size=0.3, random_state=0)\n",
        "logreg = LogisticRegression()\n",
        "#fit the model on train dataset\n",
        "logreg.fit(X_train, Y_train)\n",
        "\n",
        "W = logreg.coef_\n",
        "b = logreg.intercept_\n",
        "\n",
        "print(W)\n",
        "print(b)\n"
      ]
    },
    {
      "cell_type": "code",
      "execution_count": null,
      "metadata": {
        "id": "E9e5AKVL1GYi",
        "outputId": "a3410ef6-761d-44a9-f963-d388f8b1f8f9"
      },
      "outputs": [
        {
          "name": "stdout",
          "output_type": "stream",
          "text": [
            "Accuracy of logistic regression classifier on test set: 0.9141\n"
          ]
        }
      ],
      "source": [
        "#Predicting the test set results and calculating the accuracy\n",
        "\n",
        "\n",
        "Y_pred = logreg.predict(X_test)\n",
        "print('Accuracy of logistic regression classifier on test set: {:.4f}'.format(logreg.score(X_test, Y_test)))"
      ]
    },
    {
      "cell_type": "code",
      "execution_count": null,
      "metadata": {
        "id": "FZ1JxykR1GYi",
        "outputId": "3d78db3f-1196-422c-9e08-a03e43ff4bf2"
      },
      "outputs": [
        {
          "name": "stdout",
          "output_type": "stream",
          "text": [
            "[[5364  108]\n",
            " [ 411  158]]\n"
          ]
        }
      ],
      "source": [
        "#Confusion Matrix\n",
        "from sklearn.metrics import confusion_matrix\n",
        "confusion_matrix = confusion_matrix(Y_test, Y_pred)\n",
        "print(confusion_matrix)"
      ]
    },
    {
      "cell_type": "code",
      "execution_count": null,
      "metadata": {
        "scrolled": true,
        "id": "1iTPhLy71GYi",
        "outputId": "9afdbe9e-2034-4e21-e957-5a816219db68"
      },
      "outputs": [
        {
          "name": "stdout",
          "output_type": "stream",
          "text": [
            "              precision    recall  f1-score   support\n",
            "\n",
            "           0       0.93      0.98      0.95      5472\n",
            "           1       0.59      0.28      0.38       569\n",
            "\n",
            "    accuracy                           0.91      6041\n",
            "   macro avg       0.76      0.63      0.67      6041\n",
            "weighted avg       0.90      0.91      0.90      6041\n",
            "\n"
          ]
        }
      ],
      "source": [
        "from sklearn.metrics import classification_report\n",
        "print(classification_report(Y_test, Y_pred))"
      ]
    }
  ],
  "metadata": {
    "kernelspec": {
      "display_name": "Python 3",
      "language": "python",
      "name": "python3"
    },
    "language_info": {
      "codemirror_mode": {
        "name": "ipython",
        "version": 3
      },
      "file_extension": ".py",
      "mimetype": "text/x-python",
      "name": "python",
      "nbconvert_exporter": "python",
      "pygments_lexer": "ipython3",
      "version": "3.8.3"
    },
    "toc": {
      "base_numbering": 1,
      "nav_menu": {},
      "number_sections": true,
      "sideBar": true,
      "skip_h1_title": false,
      "title_cell": "Table of Contents",
      "title_sidebar": "Contents",
      "toc_cell": false,
      "toc_position": {},
      "toc_section_display": true,
      "toc_window_display": false
    },
    "colab": {
      "provenance": []
    }
  },
  "nbformat": 4,
  "nbformat_minor": 0
}